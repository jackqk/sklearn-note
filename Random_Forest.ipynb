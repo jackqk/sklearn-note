{
  "nbformat": 4,
  "nbformat_minor": 0,
  "metadata": {
    "colab": {
      "name": "Random Forest.ipynb",
      "provenance": [],
      "collapsed_sections": [],
      "authorship_tag": "ABX9TyPVDabB+urpHI5hTC7DErmY",
      "include_colab_link": true
    },
    "kernelspec": {
      "name": "python3",
      "display_name": "Python 3"
    }
  },
  "cells": [
    {
      "cell_type": "markdown",
      "metadata": {
        "id": "view-in-github",
        "colab_type": "text"
      },
      "source": [
        "<a href=\"https://colab.research.google.com/github/jackqk/sklearn-note/blob/master/Random_Forest.ipynb\" target=\"_parent\"><img src=\"https://colab.research.google.com/assets/colab-badge.svg\" alt=\"Open In Colab\"/></a>"
      ]
    },
    {
      "cell_type": "markdown",
      "metadata": {
        "id": "P8KOzl0Bs44C",
        "colab_type": "text"
      },
      "source": [
        "# **Random Forest**"
      ]
    },
    {
      "cell_type": "markdown",
      "metadata": {
        "id": "b1vGNk5jtbiq",
        "colab_type": "text"
      },
      "source": [
        "# **Hello**"
      ]
    },
    {
      "cell_type": "code",
      "metadata": {
        "id": "Ett2lOhwtfy5",
        "colab_type": "code",
        "outputId": "edb52b83-9000-47b7-cbcf-6b19b12e2178",
        "colab": {
          "base_uri": "https://localhost:8080/",
          "height": 50
        }
      },
      "source": [
        "from sklearn.ensemble import RandomForestClassifier\n",
        "from sklearn.model_selection import train_test_split\n",
        "from sklearn.datasets import make_blobs\n",
        "\n",
        "X_D2, y_D2 = make_blobs(n_samples = 100, n_features = 2, centers = 8, cluster_std = 1.3, random_state = 4)\n",
        "\n",
        "X_train, X_test, y_train, y_test = train_test_split(X_D2, y_D2, random_state = 0)\n",
        "\n",
        "clf = RandomForestClassifier().fit(X_train, y_train)\n",
        "print('Accuracy of training dataset:{:.2f}'.format(clf.score(X_train, y_train)))\n",
        "print('Accuracy of test dataset:{:.2f}'.format(clf.score(X_test, y_test)))"
      ],
      "execution_count": 1,
      "outputs": [
        {
          "output_type": "stream",
          "text": [
            "Accuracy of training dataset:1.00\n",
            "Accuracy of test dataset:0.84\n"
          ],
          "name": "stdout"
        }
      ]
    },
    {
      "cell_type": "markdown",
      "metadata": {
        "id": "04dV47jDtl2V",
        "colab_type": "text"
      },
      "source": [
        "# **Fruit Dataset Demo**"
      ]
    },
    {
      "cell_type": "code",
      "metadata": {
        "id": "r3aeuIa3ufoI",
        "colab_type": "code",
        "outputId": "df47b872-6007-47ed-d650-3da60a7a67d1",
        "colab": {
          "base_uri": "https://localhost:8080/",
          "height": 50
        }
      },
      "source": [
        "import pandas as pd\n",
        "from sklearn.ensemble import RandomForestClassifier\n",
        "from sklearn.model_selection import train_test_split\n",
        "\n",
        "fruits = pd.read_csv('https://raw.githubusercontent.com/jackqk/sklearn-note/master/data/fruit_data_with_colors.txt', sep='\\t')\n",
        "X = fruits[['mass', 'width', 'height', 'color_score']]\n",
        "y = fruits['fruit_label']\n",
        "X_train, X_test, y_train, y_test = train_test_split(X, y, random_state=0)\n",
        "\n",
        "clf = RandomForestClassifier(n_estimators=10, random_state=0).fit(X_train, y_train)\n",
        "print('Accuracy of RF classifier on training set: {:.2f}'.format(clf.score(X_train, y_train)))\n",
        "print('Accuracy of RF classifier on test set: {:.2f}'.format(clf.score(X_test, y_test)))"
      ],
      "execution_count": 2,
      "outputs": [
        {
          "output_type": "stream",
          "text": [
            "Accuracy of RF classifier on training set: 1.00\n",
            "Accuracy of RF classifier on test set: 0.87\n"
          ],
          "name": "stdout"
        }
      ]
    },
    {
      "cell_type": "markdown",
      "metadata": {
        "id": "NYHxXRiEvtmv",
        "colab_type": "text"
      },
      "source": [
        "# **Cancer Dataset Demo**"
      ]
    },
    {
      "cell_type": "code",
      "metadata": {
        "id": "pJuQnJYbvyOD",
        "colab_type": "code",
        "outputId": "ef7862cf-4535-41bc-de73-b04304052817",
        "colab": {
          "base_uri": "https://localhost:8080/",
          "height": 67
        }
      },
      "source": [
        "import pandas as pd\n",
        "from sklearn.datasets import load_breast_cancer\n",
        "from sklearn.ensemble import RandomForestClassifier\n",
        "from sklearn.model_selection import train_test_split\n",
        "\n",
        "cancer = load_breast_cancer()\n",
        "(X_cancer, y_cancer) = load_breast_cancer(return_X_y = True) \n",
        "\n",
        "X_train, X_test, y_train, y_test = train_test_split(X_cancer, y_cancer, random_state = 0)\n",
        "\n",
        "clf = RandomForestClassifier(max_features = 8, random_state = 0)\n",
        "clf.fit(X_train, y_train)\n",
        "\n",
        "print('Breast cancer dataset')\n",
        "print('Accuracy on training set: {:.2f}'.format(clf.score(X_train, y_train)))\n",
        "print('Accuracy on test set: {:.2f}'.format(clf.score(X_test, y_test)))"
      ],
      "execution_count": 3,
      "outputs": [
        {
          "output_type": "stream",
          "text": [
            "Breast cancer dataset\n",
            "Accuracy on training set: 1.00\n",
            "Accuracy on test set: 0.97\n"
          ],
          "name": "stdout"
        }
      ]
    }
  ]
}