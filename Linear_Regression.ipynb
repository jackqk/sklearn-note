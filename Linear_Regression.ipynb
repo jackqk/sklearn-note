{
  "nbformat": 4,
  "nbformat_minor": 0,
  "metadata": {
    "colab": {
      "name": "Linear Regression.ipynb",
      "provenance": [],
      "collapsed_sections": [
        "pCy7ZouDcRt5",
        "Pu8TFDzQcrSc",
        "iYVH6i-Zey2m"
      ],
      "include_colab_link": true
    },
    "kernelspec": {
      "name": "python3",
      "display_name": "Python 3"
    }
  },
  "cells": [
    {
      "cell_type": "markdown",
      "metadata": {
        "id": "view-in-github",
        "colab_type": "text"
      },
      "source": [
        "<a href=\"https://colab.research.google.com/github/jackqk/sklearn-note/blob/master/Linear_Regression.ipynb\" target=\"_parent\"><img src=\"https://colab.research.google.com/assets/colab-badge.svg\" alt=\"Open In Colab\"/></a>"
      ]
    },
    {
      "cell_type": "markdown",
      "metadata": {
        "id": "CdmXZilEcLLt",
        "colab_type": "text"
      },
      "source": [
        "# **Linear Regrresion**"
      ]
    },
    {
      "cell_type": "markdown",
      "metadata": {
        "id": "pCy7ZouDcRt5",
        "colab_type": "text"
      },
      "source": [
        "# **Least-squares Liner Regression(ordinary least-squares linear regeression)**"
      ]
    },
    {
      "cell_type": "code",
      "metadata": {
        "id": "AguNegACcdlP",
        "colab_type": "code",
        "outputId": "0154896b-c4cf-4822-aeac-7e1f98e40f31",
        "colab": {
          "base_uri": "https://localhost:8080/",
          "height": 379
        }
      },
      "source": [
        "import matplotlib.pyplot as plt\n",
        "from sklearn.datasets import make_regression\n",
        "from sklearn.model_selection import train_test_split\n",
        "from sklearn.linear_model import LinearRegression\n",
        "\n",
        "X, y = make_regression(n_samples=100, n_features=1, n_informative=1, bias=150, noise=30, random_state=0)\n",
        "X_train, X_test, y_train, y_test = train_test_split(X, y, random_state=0)\n",
        "\n",
        "linreg = LinearRegression().fit(X_train, y_train)\n",
        "\n",
        "print(\"linear model coeffient (w):{}\".format(linreg.coef_))\n",
        "print(\"linear model intercept (b):{}\".format(linreg.intercept_))\n",
        "print(\"R-squared score (trainning):{:.3f}\".format(linreg.score(X_train, y_train)))\n",
        "print(\"R-squared score (test):{:.3f}\".format(linreg.score(X_test, y_test)))\n",
        "\n",
        "plt.figure()\n",
        "plt.scatter(X, y)\n",
        "plt.plot(X, linreg.coef_*X + linreg.intercept_, 'r-')\n",
        "plt.title('Least-squares linear regression')\n",
        "plt.xlabel('Feature value (x)')\n",
        "plt.ylabel('Target value (y)') "
      ],
      "execution_count": 0,
      "outputs": [
        {
          "output_type": "stream",
          "text": [
            "linear model coeffient (w):[45.70870465]\n",
            "linear model intercept (b):148.44575345658873\n",
            "R-squared score (trainning):0.679\n",
            "R-squared score (test):0.492\n"
          ],
          "name": "stdout"
        },
        {
          "output_type": "execute_result",
          "data": {
            "text/plain": [
              "Text(0, 0.5, 'Target value (y)')"
            ]
          },
          "metadata": {
            "tags": []
          },
          "execution_count": 1
        },
        {
          "output_type": "display_data",
          "data": {
            "image/png": "[encoded data removed]",
            "text/plain": [
              "<Figure size 432x288 with 1 Axes>"
            ]
          },
          "metadata": {
            "tags": []
          }
        }
      ]
    },
    {
      "cell_type": "markdown",
      "metadata": {
        "id": "Pu8TFDzQcrSc",
        "colab_type": "text"
      },
      "source": [
        "# **Ridge Linear Regression**"
      ]
    },
    {
      "cell_type": "markdown",
      "metadata": {
        "id": "ciLoJK9ccNnO",
        "colab_type": "text"
      },
      "source": [
        "### 准备数据"
      ]
    },
    {
      "cell_type": "code",
      "metadata": {
        "id": "vLPVsDOUcuVb",
        "colab_type": "code",
        "outputId": "e9843abf-683c-4f81-9c26-e8e9079eaee5",
        "colab": {
          "base_uri": "https://localhost:8080/",
          "height": 34
        }
      },
      "source": [
        "import pandas as pd\n",
        "import numpy as np\n",
        "from sklearn.model_selection import train_test_split\n",
        "\n",
        "crime = pd.read_csv('https://raw.githubusercontent.com/jackqk/sklearn-note/master/data/CommViolPredUnnormalizedData.txt', sep=',', na_values='?')\n",
        "columns_to_keep = [5,6] + list(range(11,26)) + list(range(32, 103))+[145]\n",
        "crime = crime.iloc[:, columns_to_keep].dropna()\n",
        "\n",
        "X_crime = crime.iloc[:, 0:88]\n",
        "y_crime = crime['ViolentCrimesPerPop']\n",
        "X_train, X_test, y_train, y_test = train_test_split(X_crime, y_crime, random_state = 0)\n",
        "print('Data prepared')"
      ],
      "execution_count": 0,
      "outputs": [
        {
          "output_type": "stream",
          "text": [
            "Data prepared\n"
          ],
          "name": "stdout"
        }
      ]
    },
    {
      "cell_type": "markdown",
      "metadata": {
        "id": "VPAN-POMcPIL",
        "colab_type": "text"
      },
      "source": [
        "### Ridge Regression"
      ]
    },
    {
      "cell_type": "code",
      "metadata": {
        "id": "sED7ANazc3qX",
        "colab_type": "code",
        "outputId": "e60f434c-ff77-4c37-fe76-035630b8b3cf",
        "colab": {
          "base_uri": "https://localhost:8080/",
          "height": 472
        }
      },
      "source": [
        "from sklearn.linear_model import Ridge\n",
        "X_train, X_test, y_train, y_test = train_test_split(X_crime, y_crime, random_state = 0)\n",
        "linridge = Ridge(alpha=20.0).fit(X_train, y_train)\n",
        "print('ridge regression linear model intercept:{}'.format(linridge.intercept_))\n",
        "print('ridge regression linear model coeff:\\n{}'.format(linridge.coef_))\n",
        "print('R-squared score (training):{:.3f}'.format(linridge.score(X_train, y_train)))\n",
        "print('R-squared score (test):{:.3f}'.format(linridge.score(X_test, y_test)))\n",
        "print('Number of non-zero features:{}'.format(np.sum(linridge.coef_ != 0)))"
      ],
      "execution_count": 0,
      "outputs": [
        {
          "output_type": "stream",
          "text": [
            "ridge regression linear model intercept:-3352.423035846137\n",
            "ridge regression linear model coeff:\n",
            "[ 1.95091438e-03  2.19322667e+01  9.56286607e+00 -3.59178973e+01\n",
            "  6.36465325e+00 -1.96885471e+01 -2.80715856e-03  1.66254486e+00\n",
            " -6.61426604e-03 -6.95450680e+00  1.71944731e+01 -5.62819154e+00\n",
            "  8.83525114e+00  6.79085746e-01 -7.33614221e+00  6.70389803e-03\n",
            "  9.78505502e-04  5.01202169e-03 -4.89870524e+00 -1.79270062e+01\n",
            "  9.17572382e+00 -1.24454193e+00  1.21845360e+00  1.03233089e+01\n",
            " -3.78037278e+00 -3.73428973e+00  4.74595305e+00  8.42696855e+00\n",
            "  3.09250005e+01  1.18644167e+01 -2.05183675e+00 -3.82210450e+01\n",
            "  1.85081589e+01  1.52510829e+00 -2.20086608e+01  2.46283912e+00\n",
            "  3.29328703e-01  4.02228467e+00 -1.12903533e+01 -4.69567413e-03\n",
            "  4.27046505e+01 -1.22507167e-03  1.40795790e+00  9.35041855e-01\n",
            " -3.00464253e+00  1.12390514e+00 -1.82487653e+01 -1.54653407e+01\n",
            "  2.41917002e+01 -1.32497562e+01 -4.20113118e-01 -3.59710660e+01\n",
            "  1.29786751e+01 -2.80765995e+01  4.38513476e+01  3.86590044e+01\n",
            " -6.46024046e+01 -1.63714023e+01  2.90397330e+01  4.15472907e+00\n",
            "  5.34033563e+01  1.98773191e-02 -5.47413979e-01  1.23883518e+01\n",
            "  1.03526583e+01 -1.57238894e+00  3.15887097e+00  8.77757987e+00\n",
            " -2.94724962e+01 -2.32633553e-04  3.13528914e-04 -4.13990258e-04\n",
            " -1.79489212e-04 -5.74054527e-01 -5.17742507e-01 -4.20670931e-01\n",
            "  1.53383594e-01  1.32725423e+00  3.84863158e+00  3.03024594e+00\n",
            " -3.77692644e+01  1.37933464e-01  3.07676522e-01  1.57128807e+01\n",
            "  3.31418306e-01  3.35994414e+00  1.61265911e-01 -2.67619878e+00]\n",
            "R-squared score (training):0.671\n",
            "R-squared score (test):0.494\n",
            "Number of non-zero features:88\n"
          ],
          "name": "stdout"
        }
      ]
    },
    {
      "cell_type": "markdown",
      "metadata": {
        "id": "lPm-YoDac5O5",
        "colab_type": "text"
      },
      "source": [
        "### Ridge Regression with feature scale"
      ]
    },
    {
      "cell_type": "code",
      "metadata": {
        "id": "GYtUySeicoCJ",
        "colab_type": "code",
        "outputId": "06151fd0-c324-4aee-eb26-64f1149d107d",
        "colab": {
          "base_uri": "https://localhost:8080/",
          "height": 405
        }
      },
      "source": [
        "from sklearn.linear_model import Ridge\n",
        "from sklearn.preprocessing import MinMaxScaler\n",
        "\n",
        "scaler = MinMaxScaler()\n",
        "X_train_scaled = scaler.fit_transform(X_train)\n",
        "X_test_scaled = scaler.transform(X_test)\n",
        "linridge = Ridge(alpha=20).fit(X_train_scaled, y_train)\n",
        "print('ridge regression linear model intercept:{}'.format(linridge.intercept_))\n",
        "print('ridge regression linear model coeff:\\n{}'.format(linridge.coef_))\n",
        "print('R-squared score (training):{:.3f}'.format(linridge.score(X_train_scaled, y_train)))\n",
        "print('R-squared score (test):{:.3f}'.format(linridge.score(X_test_scaled, y_test)))\n",
        "print('Number of non-zero features:{}'.format(np.sum(linridge.coef_ != 0)))"
      ],
      "execution_count": 0,
      "outputs": [
        {
          "output_type": "stream",
          "text": [
            "ridge regression linear model intercept:933.3906385044153\n",
            "ridge regression linear model coeff:\n",
            "[  88.68827454   16.48947987  -50.30285445  -82.90507574  -65.89507244\n",
            "   -2.27674244   87.74108514  150.94862182   18.8802613   -31.05554992\n",
            "  -43.13536109 -189.44266328   -4.52658099  107.97866804  -76.53358414\n",
            "    2.86032762   34.95230077   90.13523036   52.46428263  -62.10898424\n",
            "  115.01780357    2.66942023    6.94331369   -5.66646499 -101.55269144\n",
            "  -36.9087526    -8.7053343    29.11999068  171.25963057   99.36919476\n",
            "   75.06611841  123.63522539   95.24316483 -330.61044265 -442.30179004\n",
            " -284.49744001 -258.37150609   17.66431072 -101.70717151  110.64762887\n",
            "  523.13611718   24.8208959     4.86533322  -30.46775619   -3.51753937\n",
            "   50.57947231   10.84840601   18.27680946   44.11189865   58.33588176\n",
            "   67.08698975  -57.93524659  116.1446052    53.81163718   49.01607711\n",
            "   -7.62262031   55.14288543  -52.08878272  123.39291017   77.12562171\n",
            "   45.49795317  184.91229771  -91.35721203    1.07975971  234.09267451\n",
            "   10.3887921    94.7171829   167.91856631  -25.14025088   -1.18242839\n",
            "   14.60362467   36.77122659   53.19878339  -78.86365997   -5.89858411\n",
            "   26.04790298  115.1534917    68.74143311   68.28588166   16.5260514\n",
            "  -97.90513652  205.20448474   75.97304123   61.3791085   -79.83157049\n",
            "   67.26700741   95.67094538  -11.88380569]\n",
            "R-squared score (training):0.615\n",
            "R-squared score (test):0.599\n",
            "Number of non-zero features:88\n"
          ],
          "name": "stdout"
        }
      ]
    },
    {
      "cell_type": "markdown",
      "metadata": {
        "id": "-gXLBkY3dKTx",
        "colab_type": "text"
      },
      "source": [
        "### select the best Ridge Regression"
      ]
    },
    {
      "cell_type": "code",
      "metadata": {
        "id": "3lFAnNgTdPca",
        "colab_type": "code",
        "outputId": "f1a59fa1-0064-4249-eb63-e2b3c98c7d5d",
        "colab": {
          "base_uri": "https://localhost:8080/",
          "height": 253
        }
      },
      "source": [
        "from sklearn.linear_model import Ridge\n",
        "from sklearn.preprocessing import MinMaxScaler\n",
        "\n",
        "scaler = MinMaxScaler()\n",
        "X_train_scaled = scaler.fit_transform(X_train)\n",
        "X_test_scaled = scaler.fit_transform(X_test)\n",
        "\n",
        "for this_alpha in [0, 1, 10,20, 50, 100, 1000]:\n",
        "  linridge = Ridge(alpha=this_alpha).fit(X_train_scaled, y_train)\n",
        "  r2_train = linridge.score(X_train_scaled, y_train)\n",
        "  r2_test = linridge.score(X_test_scaled, y_test)\n",
        "  num_coeff_bigger = sum(abs(linridge.coef_) > 1.0)\n",
        "  print('Alpha = {:.2f}\\nnum abs(coeff) > 1.0: {}, r-squared training: {:.2f}, r-squared test: {:.2f}'\n",
        "         .format(this_alpha, num_coeff_bigger, r2_train, r2_test))"
      ],
      "execution_count": 0,
      "outputs": [
        {
          "output_type": "stream",
          "text": [
            "Alpha = 0.00\n",
            "num abs(coeff) > 1.0: 88, r-squared training: 0.67, r-squared test: -425283142331101020684288.00\n",
            "Alpha = 1.00\n",
            "num abs(coeff) > 1.0: 87, r-squared training: 0.66, r-squared test: 0.61\n",
            "Alpha = 10.00\n",
            "num abs(coeff) > 1.0: 87, r-squared training: 0.63, r-squared test: 0.63\n",
            "Alpha = 20.00\n",
            "num abs(coeff) > 1.0: 88, r-squared training: 0.61, r-squared test: 0.62\n",
            "Alpha = 50.00\n",
            "num abs(coeff) > 1.0: 86, r-squared training: 0.58, r-squared test: 0.59\n",
            "Alpha = 100.00\n",
            "num abs(coeff) > 1.0: 87, r-squared training: 0.55, r-squared test: 0.56\n",
            "Alpha = 1000.00\n",
            "num abs(coeff) > 1.0: 84, r-squared training: 0.31, r-squared test: 0.31\n"
          ],
          "name": "stdout"
        }
      ]
    },
    {
      "cell_type": "markdown",
      "metadata": {
        "id": "iYVH6i-Zey2m",
        "colab_type": "text"
      },
      "source": [
        "# **Lasso Regression**"
      ]
    },
    {
      "cell_type": "markdown",
      "metadata": {
        "id": "2bWGoBdfe1mn",
        "colab_type": "text"
      },
      "source": [
        "### 数据准备"
      ]
    },
    {
      "cell_type": "code",
      "metadata": {
        "id": "VWYNS2aGhMKR",
        "colab_type": "code",
        "outputId": "f76f62be-e295-4c1b-eeeb-b5037daf4e40",
        "colab": {
          "base_uri": "https://localhost:8080/",
          "height": 34
        }
      },
      "source": [
        "import pandas as pd\n",
        "import numpy as np\n",
        "from sklearn.model_selection import train_test_split\n",
        "\n",
        "crime = pd.read_csv('https://raw.githubusercontent.com/jackqk/sklearn-note/master/data/CommViolPredUnnormalizedData.txt', sep=',', na_values='?')\n",
        "columns_to_keep = [5,6] + list(range(11,26)) + list(range(32, 103))+[145]\n",
        "crime = crime.iloc[:, columns_to_keep].dropna()\n",
        "\n",
        "X_crime = crime.iloc[:, 0:88]\n",
        "y_crime = crime['ViolentCrimesPerPop']\n",
        "X_train, X_test, y_train, y_test = train_test_split(X_crime, y_crime, random_state = 0)\n",
        "print('Data prepared')"
      ],
      "execution_count": 0,
      "outputs": [
        {
          "output_type": "stream",
          "text": [
            "Data prepared\n"
          ],
          "name": "stdout"
        }
      ]
    },
    {
      "cell_type": "markdown",
      "metadata": {
        "id": "MyF1ZL5biT9y",
        "colab_type": "text"
      },
      "source": [
        "### 观察会有很多0"
      ]
    },
    {
      "cell_type": "code",
      "metadata": {
        "id": "7YRnuFoChNVb",
        "colab_type": "code",
        "outputId": "0c2c01eb-469b-44b8-ccb4-136237084db4",
        "colab": {
          "base_uri": "https://localhost:8080/",
          "height": 860
        }
      },
      "source": [
        "from sklearn.linear_model import Lasso\n",
        "from sklearn.preprocessing import MinMaxScaler\n",
        "\n",
        "scaler = MinMaxScaler()\n",
        "X_train_scaled = scaler.fit_transform(X_train)\n",
        "X_test_scaled = scaler.transform(X_test)\n",
        "\n",
        "linlasso = Lasso(alpha=2.0, max_iter = 10000).fit(X_train_scaled, y_train)\n",
        "print('Crime dataset')\n",
        "print('lasso regression linear model intercept: {}'.format(linlasso.intercept_))\n",
        "print('lasso regression linear model coeff:\\n{}'.format(linlasso.coef_))\n",
        "print('Non-zero features: {}'.format(np.sum(linlasso.coef_ != 0)))\n",
        "print('R-squared score (training): {:.3f}'.format(linlasso.score(X_train_scaled, y_train)))\n",
        "print('R-squared score (test): {:.3f}\\n'.format(linlasso.score(X_test_scaled, y_test)))\n",
        "print('Features with non-zero weight (sorted by absolute magnitude):')\n",
        "\n",
        "for e in sorted (list(zip(list(X_crime), linlasso.coef_)), key = lambda e: -abs(e[1])):\n",
        "  if e[1] != 0:\n",
        "    print('\\t{}, {:.3f}'.format(e[0], e[1]))"
      ],
      "execution_count": 0,
      "outputs": [
        {
          "output_type": "stream",
          "text": [
            "Crime dataset\n",
            "lasso regression linear model intercept: 1186.612061998579\n",
            "lasso regression linear model coeff:\n",
            "[    0.             0.            -0.          -168.18346054\n",
            "    -0.            -0.             0.           119.6938194\n",
            "     0.            -0.             0.          -169.67564456\n",
            "    -0.             0.            -0.             0.\n",
            "     0.             0.            -0.            -0.\n",
            "     0.            -0.             0.             0.\n",
            "   -57.52991966    -0.            -0.             0.\n",
            "   259.32889226    -0.             0.             0.\n",
            "     0.            -0.         -1188.7396867     -0.\n",
            "    -0.            -0.          -231.42347299     0.\n",
            "  1488.36512229     0.            -0.            -0.\n",
            "    -0.             0.             0.             0.\n",
            "     0.             0.            -0.             0.\n",
            "    20.14419415     0.             0.             0.\n",
            "     0.             0.           339.04468804     0.\n",
            "     0.           459.53799903    -0.             0.\n",
            "   122.69221826    -0.            91.41202242     0.\n",
            "    -0.             0.             0.            73.14365856\n",
            "     0.            -0.             0.             0.\n",
            "    86.35600042     0.             0.             0.\n",
            "  -104.57143405   264.93206555     0.            23.4488645\n",
            "   -49.39355188     0.             5.19775369     0.        ]\n",
            "Non-zero features: 20\n",
            "R-squared score (training): 0.631\n",
            "R-squared score (test): 0.624\n",
            "\n",
            "Features with non-zero weight (sorted by absolute magnitude):\n",
            "\tPctKidsBornNeverMar, 1488.365\n",
            "\tPctKids2Par, -1188.740\n",
            "\tHousVacant, 459.538\n",
            "\tPctPersDenseHous, 339.045\n",
            "\tNumInShelters, 264.932\n",
            "\tMalePctDivorce, 259.329\n",
            "\tPctWorkMom, -231.423\n",
            "\tpctWInvInc, -169.676\n",
            "\tagePct12t29, -168.183\n",
            "\tPctVacantBoarded, 122.692\n",
            "\tpctUrban, 119.694\n",
            "\tMedOwnCostPctIncNoMtg, -104.571\n",
            "\tMedYrHousBuilt, 91.412\n",
            "\tRentQrange, 86.356\n",
            "\tOwnOccHiQuart, 73.144\n",
            "\tPctEmplManu, -57.530\n",
            "\tPctBornSameState, -49.394\n",
            "\tPctForeignBorn, 23.449\n",
            "\tPctLargHouseFam, 20.144\n",
            "\tPctSameCity85, 5.198\n"
          ],
          "name": "stdout"
        }
      ]
    },
    {
      "cell_type": "code",
      "metadata": {
        "id": "_ENgmfZQimxd",
        "colab_type": "code",
        "outputId": "e2c79468-bc63-4490-f355-f22cedce8ece",
        "colab": {
          "base_uri": "https://localhost:8080/",
          "height": 337
        }
      },
      "source": [
        "print('Lasso regression: effect of alpha regularization\\n\\\n",
        "parameter on number of features kept in final model\\n')\n",
        "\n",
        "for alpha in [0.5, 1, 2, 3, 5, 10, 20, 50]:\n",
        "    linlasso = Lasso(alpha, max_iter = 10000).fit(X_train_scaled, y_train)\n",
        "    r2_train = linlasso.score(X_train_scaled, y_train)\n",
        "    r2_test = linlasso.score(X_test_scaled, y_test)\n",
        "    \n",
        "    print('Alpha = {:.2f}\\nFeatures kept: {}, r-squared training: {:.2f}, r-squared test: {:.2f}'\n",
        "         .format(alpha, np.sum(linlasso.coef_ != 0), r2_train, r2_test))"
      ],
      "execution_count": 0,
      "outputs": [
        {
          "output_type": "stream",
          "text": [
            "Lasso regression: effect of alpha regularization\n",
            "parameter on number of features kept in final model\n",
            "\n",
            "Alpha = 0.50\n",
            "Features kept: 35, r-squared training: 0.65, r-squared test: 0.58\n",
            "Alpha = 1.00\n",
            "Features kept: 25, r-squared training: 0.64, r-squared test: 0.60\n",
            "Alpha = 2.00\n",
            "Features kept: 20, r-squared training: 0.63, r-squared test: 0.62\n",
            "Alpha = 3.00\n",
            "Features kept: 17, r-squared training: 0.62, r-squared test: 0.63\n",
            "Alpha = 5.00\n",
            "Features kept: 12, r-squared training: 0.60, r-squared test: 0.61\n",
            "Alpha = 10.00\n",
            "Features kept: 6, r-squared training: 0.57, r-squared test: 0.58\n",
            "Alpha = 20.00\n",
            "Features kept: 2, r-squared training: 0.51, r-squared test: 0.50\n",
            "Alpha = 50.00\n",
            "Features kept: 1, r-squared training: 0.31, r-squared test: 0.30\n"
          ],
          "name": "stdout"
        }
      ]
    },
    {
      "cell_type": "markdown",
      "metadata": {
        "id": "g3HLISu-qUqS",
        "colab_type": "text"
      },
      "source": [
        "# **Polynomial Regression**"
      ]
    },
    {
      "cell_type": "markdown",
      "metadata": {
        "id": "qTwbJTFwqaJb",
        "colab_type": "text"
      },
      "source": [
        "### 准备数据"
      ]
    },
    {
      "cell_type": "code",
      "metadata": {
        "id": "6BaTlHorrmm-",
        "colab_type": "code",
        "colab": {}
      },
      "source": [
        "from sklearn.datasets import make_friedman1\n",
        "from sklearn.model_selection import train_test_split\n",
        "\n",
        "X_F1, y_F1 = make_friedman1(n_samples = 100, n_features = 7, random_state = 0)\n",
        "X_train, X_test, y_train, y_test = train_test_split(X_F1, y_F1, random_state = 0)"
      ],
      "execution_count": 0,
      "outputs": []
    },
    {
      "cell_type": "markdown",
      "metadata": {
        "id": "Y2DFyXResJlZ",
        "colab_type": "text"
      },
      "source": [
        "### 以Least-squared Linear Regression为比较对象"
      ]
    },
    {
      "cell_type": "code",
      "metadata": {
        "id": "GHbJRmS7saBh",
        "colab_type": "code",
        "outputId": "217571d0-d337-48b8-a274-724db93a9a1a",
        "colab": {
          "base_uri": "https://localhost:8080/",
          "height": 101
        }
      },
      "source": [
        "from sklearn.linear_model import LinearRegression\n",
        "\n",
        "linreg = LinearRegression().fit(X_train, y_train)\n",
        "print('linear model coeff (w): {}'.format(linreg.coef_))\n",
        "print('linear model intercept (b): {:.3f}'.format(linreg.intercept_))\n",
        "print('R-squared score (training): {:.3f}'.format(linreg.score(X_train, y_train)))\n",
        "print('R-squared score (test): {:.3f}'.format(linreg.score(X_test, y_test)))"
      ],
      "execution_count": 0,
      "outputs": [
        {
          "output_type": "stream",
          "text": [
            "linear model coeff (w): [ 4.42036739  5.99661447  0.52894712 10.23751345  6.5507973  -2.02082636\n",
            " -0.32378811]\n",
            "linear model intercept (b): 1.543\n",
            "R-squared score (training): 0.722\n",
            "R-squared score (test): 0.722\n"
          ],
          "name": "stdout"
        }
      ]
    },
    {
      "cell_type": "markdown",
      "metadata": {
        "id": "MDD_xRsJtAUp",
        "colab_type": "text"
      },
      "source": [
        "### Polynomial"
      ]
    },
    {
      "cell_type": "code",
      "metadata": {
        "id": "j9IeWltQs2_v",
        "colab_type": "code",
        "outputId": "209fec57-f9f4-4007-d4ce-ecbebf777b0b",
        "colab": {
          "base_uri": "https://localhost:8080/",
          "height": 320
        }
      },
      "source": [
        "from sklearn.preprocessing import PolynomialFeatures\n",
        "\n",
        "print('\\nNow we transform the original input data to add\\n\\\n",
        "polynomial features up to degree 2 (quadratic)\\n')\n",
        "poly = PolynomialFeatures(degree=2)\n",
        "X_F1_poly = poly.fit_transform(X_F1)\n",
        "\n",
        "X_train, X_test, y_train, y_test = train_test_split(X_F1_poly, y_F1, random_state = 0)\n",
        "linreg = LinearRegression().fit(X_train, y_train)\n",
        "\n",
        "print('(poly deg 2) linear model coeff (w):\\n{}'.format(linreg.coef_))\n",
        "print('(poly deg 2) linear model intercept (b): {:.3f}'.format(linreg.intercept_))\n",
        "print('(poly deg 2) R-squared score (training): {:.3f}'.format(linreg.score(X_train, y_train)))\n",
        "print('(poly deg 2) R-squared score (test): {:.3f}\\n'.format(linreg.score(X_test, y_test)))"
      ],
      "execution_count": 0,
      "outputs": [
        {
          "output_type": "stream",
          "text": [
            "\n",
            "Now we transform the original input data to add\n",
            "polynomial features up to degree 2 (quadratic)\n",
            "\n",
            "(poly deg 2) linear model coeff (w):\n",
            "[ 3.40951018e-12  1.66452443e+01  2.67285381e+01 -2.21348316e+01\n",
            "  1.24359227e+01  6.93086826e+00  1.04772675e+00  3.71352773e+00\n",
            " -1.33785505e+01 -5.73177185e+00  1.61813184e+00  3.66399592e+00\n",
            "  5.04513181e+00 -1.45835979e+00  1.95156872e+00 -1.51297378e+01\n",
            "  4.86762224e+00 -2.97084269e+00 -7.78370522e+00  5.14696078e+00\n",
            " -4.65479361e+00  1.84147395e+01 -2.22040650e+00  2.16572630e+00\n",
            " -1.27989481e+00  1.87946559e+00  1.52962716e-01  5.62073813e-01\n",
            " -8.91697516e-01 -2.18481128e+00  1.37595426e+00 -4.90336041e+00\n",
            " -2.23535458e+00  1.38268439e+00 -5.51908208e-01 -1.08795007e+00]\n",
            "(poly deg 2) linear model intercept (b): -3.206\n",
            "(poly deg 2) R-squared score (training): 0.969\n",
            "(poly deg 2) R-squared score (test): 0.805\n",
            "\n"
          ],
          "name": "stdout"
        }
      ]
    },
    {
      "cell_type": "markdown",
      "metadata": {
        "id": "EGQ9psKgs-CN",
        "colab_type": "text"
      },
      "source": [
        "### Polynomial + Ridge"
      ]
    },
    {
      "cell_type": "code",
      "metadata": {
        "id": "CMJA7xmatImZ",
        "colab_type": "code",
        "outputId": "4847baeb-9de6-45c1-86a5-460ef286b105",
        "colab": {
          "base_uri": "https://localhost:8080/",
          "height": 287
        }
      },
      "source": [
        "from sklearn.linear_model import Ridge\n",
        "\n",
        "print('\\nAddition of many polynomial features often leads to\\n\\\n",
        "overfitting, so we often use polynomial features in combination\\n\\\n",
        "with regression that has a regularization penalty, like ridge\\n\\\n",
        "regression.\\n')\n",
        "\n",
        "X_train, X_test, y_train, y_test = train_test_split(X_F1_poly, y_F1, random_state = 0)\n",
        "linreg = Ridge().fit(X_train, y_train)\n",
        "\n",
        "print('(poly deg 2 + ridge) linear model coeff (w):\\n{}'.format(linreg.coef_))\n",
        "print('(poly deg 2 + ridge) linear model intercept (b): {:.3f}'.format(linreg.intercept_))\n",
        "print('(poly deg 2 + ridge) R-squared score (training): {:.3f}'.format(linreg.score(X_train, y_train)))\n",
        "print('(poly deg 2 + ridge) R-squared score (test): {:.3f}'.format(linreg.score(X_test, y_test)))"
      ],
      "execution_count": 0,
      "outputs": [
        {
          "output_type": "stream",
          "text": [
            "\n",
            "Addition of many polynomial features often leads to\n",
            "overfitting, so we often use polynomial features in combination\n",
            "with regression that has a regularization penalty, like ridge\n",
            "regression.\n",
            "\n",
            "(poly deg 2 + ridge) linear model coeff (w):\n",
            "[ 0.          2.229281    4.73349734 -3.15432089  3.8585194   1.60970912\n",
            " -0.76967054 -0.14956002 -1.75215371  1.5970487   1.37080607  2.51598244\n",
            "  2.71746523  0.48531538 -1.9356048  -1.62914955  1.51474518  0.88674141\n",
            "  0.26141199  2.04931775 -1.93025705  3.61850966 -0.71788143  0.63173956\n",
            " -3.16429847  1.29161448  3.545085    1.73422041  0.94347654 -0.51207219\n",
            "  1.70114448 -1.97949067  1.80687548 -0.2173863   2.87585898 -0.89423157]\n",
            "(poly deg 2 + ridge) linear model intercept (b): 5.418\n",
            "(poly deg 2 + ridge) R-squared score (training): 0.826\n",
            "(poly deg 2 + ridge) R-squared score (test): 0.825\n"
          ],
          "name": "stdout"
        }
      ]
    }
  ]
}