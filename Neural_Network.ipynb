{
  "nbformat": 4,
  "nbformat_minor": 0,
  "metadata": {
    "colab": {
      "name": "Neural Network.ipynb",
      "provenance": [],
      "collapsed_sections": [],
      "authorship_tag": "ABX9TyPzGhafwcEDt+iZJ8LHYkPG",
      "include_colab_link": true
    },
    "kernelspec": {
      "name": "python3",
      "display_name": "Python 3"
    }
  },
  "cells": [
    {
      "cell_type": "markdown",
      "metadata": {
        "id": "view-in-github",
        "colab_type": "text"
      },
      "source": [
        "<a href=\"https://colab.research.google.com/github/jackqk/sklearn-note/blob/master/Neural_Network.ipynb\" target=\"_parent\"><img src=\"https://colab.research.google.com/assets/colab-badge.svg\" alt=\"Open In Colab\"/></a>"
      ]
    },
    {
      "cell_type": "markdown",
      "metadata": {
        "id": "kAIVrHBFkur5",
        "colab_type": "text"
      },
      "source": [
        "# **Neural Network**\n"
      ]
    },
    {
      "cell_type": "markdown",
      "metadata": {
        "id": "qTC3SyAKky8i",
        "colab_type": "text"
      },
      "source": [
        "# **Single Hidden Layer**\n"
      ]
    },
    {
      "cell_type": "code",
      "metadata": {
        "id": "r3Q3swAmk1hh",
        "colab_type": "code",
        "colab": {
          "base_uri": "https://localhost:8080/",
          "height": 219
        },
        "outputId": "32c84fa7-5110-4936-8db7-e4a206badf81"
      },
      "source": [
        "from sklearn.datasets import make_blobs\n",
        "from sklearn.neural_network import MLPClassifier\n",
        "from sklearn.model_selection import train_test_split\n",
        "\n",
        "\n",
        "X_D2, y_D2 = make_blobs(n_samples = 100, n_features = 2, centers = 8, cluster_std = 1.3, random_state = 4)\n",
        "X_train, X_test, y_train, y_test = train_test_split(X_D2, y_D2, random_state=0)\n",
        "\n",
        "units = [1, 10, 100]\n",
        "for unit in units:\n",
        "  nnclf = MLPClassifier(hidden_layer_sizes=unit, solver='lbfgs', random_state=0, max_iter=2000).fit(X_train, y_train)\n",
        "  print(\"Single hidden layer with unit = {}\".format(unit))\n",
        "  print('Accuracy of training dataset:{:.2f}'.format(nnclf.score(X_train, y_train)))\n",
        "  print('Accuracy of test dataset:{:.2f}'.format(nnclf.score(X_test, y_test)))\n",
        "  print('-----------------------------------')"
      ],
      "execution_count": 9,
      "outputs": [
        {
          "output_type": "stream",
          "text": [
            "Single hidden layer with unit = 1\n",
            "Accuracy of training dataset:0.40\n",
            "Accuracy of test dataset:0.32\n",
            "-----------------------------------\n",
            "Single hidden layer with unit = 10\n",
            "Accuracy of training dataset:0.93\n",
            "Accuracy of test dataset:0.72\n",
            "-----------------------------------\n",
            "Single hidden layer with unit = 100\n",
            "Accuracy of training dataset:0.96\n",
            "Accuracy of test dataset:0.72\n",
            "-----------------------------------\n"
          ],
          "name": "stdout"
        }
      ]
    },
    {
      "cell_type": "markdown",
      "metadata": {
        "id": "cZL2RCpAqwsk",
        "colab_type": "text"
      },
      "source": [
        "# **Two Hidden Layers**"
      ]
    },
    {
      "cell_type": "code",
      "metadata": {
        "id": "SqMIGLEFq0lT",
        "colab_type": "code",
        "colab": {
          "base_uri": "https://localhost:8080/",
          "height": 152
        },
        "outputId": "8d71de93-e045-4be0-cba8-2162aa57111b"
      },
      "source": [
        "from sklearn.datasets import make_blobs\n",
        "from sklearn.neural_network import MLPClassifier\n",
        "from sklearn.model_selection import train_test_split\n",
        "\n",
        "X_D2, y_D2 = make_blobs(n_samples = 100, n_features = 2, centers = 8, cluster_std = 1.3, random_state = 4)\n",
        "X_train, X_test, y_train, y_test = train_test_split(X_D2, y_D2, random_state=0)\n",
        "\n",
        "units = [[10,10], [10,100]]\n",
        "for unit in units:\n",
        "  nnclf = MLPClassifier(hidden_layer_sizes=unit, solver='lbfgs', random_state=0, max_iter=500).fit(X_train, y_train)\n",
        "  print(\"Single hidden layer with unit = {}\".format(unit))\n",
        "  print('Accuracy of training dataset:{:.2f}'.format(nnclf.score(X_train, y_train)))\n",
        "  print('Accuracy of test dataset:{:.2f}'.format(nnclf.score(X_test, y_test)))\n",
        "  print('-----')"
      ],
      "execution_count": 14,
      "outputs": [
        {
          "output_type": "stream",
          "text": [
            "Single hidden layer with unit = [10, 10]\n",
            "Accuracy of training dataset:0.92\n",
            "Accuracy of test dataset:0.72\n",
            "-----\n",
            "Single hidden layer with unit = [10, 100]\n",
            "Accuracy of training dataset:0.95\n",
            "Accuracy of test dataset:0.72\n",
            "-----\n"
          ],
          "name": "stdout"
        }
      ]
    },
    {
      "cell_type": "markdown",
      "metadata": {
        "id": "0Rf6cxKito2d",
        "colab_type": "text"
      },
      "source": [
        "# **Regularization（正则化）**"
      ]
    },
    {
      "cell_type": "code",
      "metadata": {
        "id": "K8bTJq0Ot9r6",
        "colab_type": "code",
        "colab": {
          "base_uri": "https://localhost:8080/",
          "height": 489
        },
        "outputId": "5b1f8cf9-e6c4-4d75-fe08-16f2e86f84ad"
      },
      "source": [
        "from sklearn.datasets import make_blobs\n",
        "from sklearn.neural_network import MLPClassifier\n",
        "from sklearn.model_selection import train_test_split\n",
        "\n",
        "X_D2, y_D2 = make_blobs(n_samples = 100, n_features = 2, centers = 8, cluster_std = 1.3, random_state = 4)\n",
        "X_train, X_test, y_train, y_test = train_test_split(X_D2, y_D2, random_state=0)\n",
        "\n",
        "alphas = [0.01, 0.3, 1, 5]\n",
        "\n",
        "for this_alpha in alphas:\n",
        "  nnclf = MLPClassifier(hidden_layer_sizes=[100, 100], solver='lbfgs', activation='tanh', alpha=this_alpha, max_iter=1000,random_state=0).fit(X_train, y_train)\n",
        "  print(\"Single hidden layer with alpha = {}\".format(this_alpha))\n",
        "  print('Accuracy of training dataset:{:.2f}'.format(nnclf.score(X_train, y_train)))\n",
        "  print('Accuracy of test dataset:{:.2f}'.format(nnclf.score(X_test, y_test)))\n",
        "  print('-----')"
      ],
      "execution_count": 19,
      "outputs": [
        {
          "output_type": "stream",
          "text": [
            "/usr/local/lib/python3.6/dist-packages/sklearn/neural_network/_multilayer_perceptron.py:470: ConvergenceWarning: lbfgs failed to converge (status=1):\n",
            "STOP: TOTAL NO. of ITERATIONS REACHED LIMIT.\n",
            "\n",
            "Increase the number of iterations (max_iter) or scale the data as shown in:\n",
            "    https://scikit-learn.org/stable/modules/preprocessing.html\n",
            "  self.n_iter_ = _check_optimize_result(\"lbfgs\", opt_res, self.max_iter)\n"
          ],
          "name": "stderr"
        },
        {
          "output_type": "stream",
          "text": [
            "Single hidden layer with alpha = 0.01\n",
            "Accuracy of training dataset:1.00\n",
            "Accuracy of test dataset:0.84\n",
            "-----\n"
          ],
          "name": "stdout"
        },
        {
          "output_type": "stream",
          "text": [
            "/usr/local/lib/python3.6/dist-packages/sklearn/neural_network/_multilayer_perceptron.py:470: ConvergenceWarning: lbfgs failed to converge (status=1):\n",
            "STOP: TOTAL NO. of ITERATIONS REACHED LIMIT.\n",
            "\n",
            "Increase the number of iterations (max_iter) or scale the data as shown in:\n",
            "    https://scikit-learn.org/stable/modules/preprocessing.html\n",
            "  self.n_iter_ = _check_optimize_result(\"lbfgs\", opt_res, self.max_iter)\n"
          ],
          "name": "stderr"
        },
        {
          "output_type": "stream",
          "text": [
            "Single hidden layer with alpha = 0.3\n",
            "Accuracy of training dataset:0.96\n",
            "Accuracy of test dataset:0.72\n",
            "-----\n",
            "Single hidden layer with alpha = 1\n",
            "Accuracy of training dataset:0.93\n",
            "Accuracy of test dataset:0.72\n",
            "-----\n",
            "Single hidden layer with alpha = 5\n",
            "Accuracy of training dataset:0.88\n",
            "Accuracy of test dataset:0.76\n",
            "-----\n"
          ],
          "name": "stdout"
        }
      ]
    },
    {
      "cell_type": "markdown",
      "metadata": {
        "id": "_T-6y5kEu4Zs",
        "colab_type": "text"
      },
      "source": [
        "# **选择不同的activation function**"
      ]
    },
    {
      "cell_type": "code",
      "metadata": {
        "id": "-XwKY9y1u8bU",
        "colab_type": "code",
        "colab": {
          "base_uri": "https://localhost:8080/",
          "height": 523
        },
        "outputId": "746036e9-f342-48b3-da97-2616c512abf2"
      },
      "source": [
        "from sklearn.datasets import make_blobs\n",
        "from sklearn.neural_network import MLPClassifier\n",
        "from sklearn.model_selection import train_test_split\n",
        "\n",
        "X_D2, y_D2 = make_blobs(n_samples = 100, n_features = 2, centers = 8, cluster_std = 1.3, random_state = 4)\n",
        "X_train, X_test, y_train, y_test = train_test_split(X_D2, y_D2, random_state=0)\n",
        "\n",
        "for this_activation in ['logistic', 'tanh', 'relu']:\n",
        "  nnclf = MLPClassifier(solver='lbfgs', activation = this_activation, alpha = 0.1, hidden_layer_sizes = [10, 10], random_state = 0).fit(X_train, y_train)\n",
        "  print(\"Single hidden layer with alpha = {}\".format(this_activation))\n",
        "  print('Accuracy of training dataset:{:.2f}'.format(nnclf.score(X_train, y_train)))\n",
        "  print('Accuracy of test dataset:{:.2f}'.format(nnclf.score(X_test, y_test)))\n",
        "  print('-----')"
      ],
      "execution_count": 22,
      "outputs": [
        {
          "output_type": "stream",
          "text": [
            "/usr/local/lib/python3.6/dist-packages/sklearn/neural_network/_multilayer_perceptron.py:470: ConvergenceWarning: lbfgs failed to converge (status=1):\n",
            "STOP: TOTAL NO. of ITERATIONS REACHED LIMIT.\n",
            "\n",
            "Increase the number of iterations (max_iter) or scale the data as shown in:\n",
            "    https://scikit-learn.org/stable/modules/preprocessing.html\n",
            "  self.n_iter_ = _check_optimize_result(\"lbfgs\", opt_res, self.max_iter)\n",
            "/usr/local/lib/python3.6/dist-packages/sklearn/neural_network/_multilayer_perceptron.py:470: ConvergenceWarning: lbfgs failed to converge (status=1):\n",
            "STOP: TOTAL NO. of ITERATIONS REACHED LIMIT.\n",
            "\n",
            "Increase the number of iterations (max_iter) or scale the data as shown in:\n",
            "    https://scikit-learn.org/stable/modules/preprocessing.html\n",
            "  self.n_iter_ = _check_optimize_result(\"lbfgs\", opt_res, self.max_iter)\n"
          ],
          "name": "stderr"
        },
        {
          "output_type": "stream",
          "text": [
            "Single hidden layer with alpha = logistic\n",
            "Accuracy of training dataset:0.93\n",
            "Accuracy of test dataset:0.76\n",
            "-----\n",
            "Single hidden layer with alpha = tanh\n",
            "Accuracy of training dataset:0.96\n",
            "Accuracy of test dataset:0.76\n",
            "-----\n",
            "Single hidden layer with alpha = relu\n",
            "Accuracy of training dataset:0.93\n",
            "Accuracy of test dataset:0.68\n",
            "-----\n"
          ],
          "name": "stdout"
        },
        {
          "output_type": "stream",
          "text": [
            "/usr/local/lib/python3.6/dist-packages/sklearn/neural_network/_multilayer_perceptron.py:470: ConvergenceWarning: lbfgs failed to converge (status=1):\n",
            "STOP: TOTAL NO. of ITERATIONS REACHED LIMIT.\n",
            "\n",
            "Increase the number of iterations (max_iter) or scale the data as shown in:\n",
            "    https://scikit-learn.org/stable/modules/preprocessing.html\n",
            "  self.n_iter_ = _check_optimize_result(\"lbfgs\", opt_res, self.max_iter)\n"
          ],
          "name": "stderr"
        }
      ]
    },
    {
      "cell_type": "markdown",
      "metadata": {
        "id": "wwzUS1a-vbF5",
        "colab_type": "text"
      },
      "source": [
        "# **Cancer Demo**"
      ]
    },
    {
      "cell_type": "code",
      "metadata": {
        "id": "F3-glETEvgCg",
        "colab_type": "code",
        "colab": {
          "base_uri": "https://localhost:8080/",
          "height": 67
        },
        "outputId": "15dcad28-e7e4-4a96-e58f-19b64d86bcec"
      },
      "source": [
        "from sklearn.datasets import load_breast_cancer\n",
        "from sklearn.neural_network import MLPClassifier\n",
        "from sklearn.preprocessing import MinMaxScaler\n",
        "\n",
        "cancer = load_breast_cancer()\n",
        "(X_cancer, y_cancer) = load_breast_cancer(return_X_y = True) \n",
        "X_train, X_test, y_train, y_test = train_test_split(X_cancer, y_cancer, random_state = 0)\n",
        "\n",
        "scaler = MinMaxScaler()\n",
        "X_train_scaled = scaler.fit_transform(X_train)\n",
        "X_test_scaled = scaler.transform(X_test)\n",
        "\n",
        "clf = MLPClassifier(hidden_layer_sizes = [100, 100], alpha = 5.0, random_state = 0, solver='lbfgs').fit(X_train_scaled, y_train)\n",
        "\n",
        "print('Breast cancer dataset')\n",
        "print('Accuracy of NN classifier on training set: {:.2f}'.format(clf.score(X_train_scaled, y_train)))\n",
        "print('Accuracy of NN classifier on test set: {:.2f}'.format(clf.score(X_test_scaled, y_test)))"
      ],
      "execution_count": 23,
      "outputs": [
        {
          "output_type": "stream",
          "text": [
            "Breast cancer dataset\n",
            "Accuracy of NN classifier on training set: 0.98\n",
            "Accuracy of NN classifier on test set: 0.97\n"
          ],
          "name": "stdout"
        }
      ]
    }
  ]
}