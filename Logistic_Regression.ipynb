{
  "nbformat": 4,
  "nbformat_minor": 0,
  "metadata": {
    "colab": {
      "name": "Logistic Regression.ipynb",
      "provenance": [],
      "collapsed_sections": [
        "ztfAipm5xf01"
      ],
      "include_colab_link": true
    },
    "kernelspec": {
      "name": "python3",
      "display_name": "Python 3"
    }
  },
  "cells": [
    {
      "cell_type": "markdown",
      "metadata": {
        "id": "view-in-github",
        "colab_type": "text"
      },
      "source": [
        "<a href=\"https://colab.research.google.com/github/jackqk/sklearn-note/blob/master/Logistic_Regression.ipynb\" target=\"_parent\"><img src=\"https://colab.research.google.com/assets/colab-badge.svg\" alt=\"Open In Colab\"/></a>"
      ]
    },
    {
      "cell_type": "markdown",
      "metadata": {
        "id": "28bQzJ5ZjYmX",
        "colab_type": "text"
      },
      "source": [
        "# **Logistic Regression**"
      ]
    },
    {
      "cell_type": "markdown",
      "metadata": {
        "id": "ztfAipm5xf01",
        "colab_type": "text"
      },
      "source": [
        "# **Hello Logistic**"
      ]
    },
    {
      "cell_type": "code",
      "metadata": {
        "id": "5Reu4vlVxujW",
        "colab_type": "code",
        "outputId": "6e0bd450-1e4a-42ac-c26d-53381f19563a",
        "colab": {
          "base_uri": "https://localhost:8080/",
          "height": 50
        }
      },
      "source": [
        "from sklearn.datasets import make_classification\n",
        "from sklearn.model_selection import train_test_split\n",
        "from sklearn.linear_model import LogisticRegression\n",
        "\n",
        "X_C2, y_C2 = make_classification(n_samples = 100, n_features=2,\n",
        "                  n_redundant=0, n_informative=2,\n",
        "                  n_clusters_per_class=1, flip_y = 0.1,\n",
        "                  class_sep = 0.5, random_state=0)\n",
        "X_train, X_test, y_train, y_test = train_test_split(X_C2, y_C2, random_state=0)\n",
        "clf = LogisticRegression(solver='lbfgs').fit(X_train, y_train)\n",
        "\n",
        "print('Accuracy of trainning set：{:.2f}'.format(clf.score(X_train, y_train)))\n",
        "print('Accuracy of test set:{:.2f}'.format(clf.score(X_test, y_test)))"
      ],
      "execution_count": 0,
      "outputs": [
        {
          "output_type": "stream",
          "text": [
            "Accuracy of trainning set：0.81\n",
            "Accuracy of test set:0.84\n"
          ],
          "name": "stdout"
        }
      ]
    },
    {
      "cell_type": "markdown",
      "metadata": {
        "id": "vKhf-jWbjlA-",
        "colab_type": "text"
      },
      "source": [
        "# **Fruit Demo**"
      ]
    },
    {
      "cell_type": "markdown",
      "metadata": {
        "id": "If5nYNTYtfh5",
        "colab_type": "text"
      },
      "source": [
        "### 准备数据"
      ]
    },
    {
      "cell_type": "code",
      "metadata": {
        "id": "hfVLAGzXnTAK",
        "colab_type": "code",
        "colab": {}
      },
      "source": [
        "import pandas as pd\n",
        "from sklearn.model_selection import train_test_split\n",
        "df = pd.read_csv('https://raw.githubusercontent.com/jackqk/sklearn-note/master/data/fruit_data_with_colors.txt', sep='\\t')\n",
        "fruit_df = df[['height', 'width', 'fruit_label']]\n",
        "X_fruit = df[['height', 'width']]\n",
        "y_fruit_apple = (df['fruit_label'] == 1)\n",
        "\n",
        "X_train, X_test, y_train, y_test = train_test_split(X_fruit, y_fruit_apple, random_state=0)"
      ],
      "execution_count": 0,
      "outputs": []
    },
    {
      "cell_type": "markdown",
      "metadata": {
        "id": "IMsVQMqpthZM",
        "colab_type": "text"
      },
      "source": [
        "### 训练"
      ]
    },
    {
      "cell_type": "code",
      "metadata": {
        "id": "vX4ZxHvutRbc",
        "colab_type": "code",
        "outputId": "9fe4c0b3-516a-4950-f7a5-b0930fadfb25",
        "colab": {
          "base_uri": "https://localhost:8080/",
          "height": 84
        }
      },
      "source": [
        "from sklearn.linear_model import LogisticRegression\n",
        "logic_reg = LogisticRegression(C=100, solver='lbfgs').fit(X_train, y_train)\n",
        "print('Accuracy of Logistic regression classifier on train set:{:.2f}'.format(logic_reg.score(X_train, y_train)))\n",
        "print('Accuracy of Logistic regression classifier on test set:{:.2f}'.format(logic_reg.score(X_test, y_test)))\n",
        "\n",
        "print('A fruit with height {} and width {} is predict to be ：{}'.format(6, 8, 'an apple' if logic_reg.predict([[6, 8]])[0] else 'not an apple'))\n",
        "print('A fruit with height {} and width {} is predict to be ：{}'.format(10, 7, 'an apple' if logic_reg.predict([[10, 7]])[0] else 'not an apple'))"
      ],
      "execution_count": 0,
      "outputs": [
        {
          "output_type": "stream",
          "text": [
            "Accuracy of Logistic regression classifier on train set:0.80\n",
            "Accuracy of Logistic regression classifier on test set:0.73\n",
            "A fruit with height 6 and width 8 is predict to be ：an apple\n",
            "A fruit with height 10 and width 7 is predict to be ：not an apple\n"
          ],
          "name": "stdout"
        }
      ]
    },
    {
      "cell_type": "code",
      "metadata": {
        "id": "gp-JZpYNpHDR",
        "colab_type": "code",
        "outputId": "0ef99659-da67-4ecc-f19a-c1f4e4305c1c",
        "colab": {
          "base_uri": "https://localhost:8080/",
          "height": 337
        }
      },
      "source": [
        "import matplotlib.pyplot as plt\n",
        "import numpy as np\n",
        "from matplotlib.colors import ListedColormap\n",
        "\n",
        "numClasses = np.amax(y_train) + 1\n",
        "color_list_light = ['#FFFFAA', '#EFEFEF', '#AAFFAA', '#AAAAFF']\n",
        "color_list_bold = ['#EEEE00', '#000000', '#00CC00', '#0000CC']\n",
        "cmap_light = ListedColormap(color_list_light[0:numClasses])\n",
        "cmap_bold  = ListedColormap(color_list_bold[0:numClasses])\n",
        "\n",
        "plt.figure(figsize=(7, 5))\n",
        "\n",
        "#这两个参数不知道干嘛的\n",
        "h = 0.03\n",
        "k = 0.5\n",
        "\n",
        "x_min = X_train['height'].min()\n",
        "x_max = X_train['height'].max()\n",
        "y_min = X_train['width'].min()\n",
        "y_max = X_train['width'].max()\n",
        "x2, y2 = np.meshgrid(np.arange(x_min-k, x_max+k, h), np.arange(y_min-k, y_max+k, h))\n",
        "\n",
        "P = logic_reg.predict(np.c_[x2.ravel(), y2.ravel()])\n",
        "P = P.reshape(x2.shape)\n",
        "\n",
        "plt.contourf(x2, y2, P, cmap=cmap_light, alpha = 0.8)\n",
        "plt.scatter(X_train['height'], X_train['width'], c=y_train, cmap=cmap_bold, s=50, edgecolor='Black')"
      ],
      "execution_count": 0,
      "outputs": [
        {
          "output_type": "execute_result",
          "data": {
            "text/plain": [
              "<matplotlib.collections.PathCollection at 0x7f4291b1c048>"
            ]
          },
          "metadata": {
            "tags": []
          },
          "execution_count": 3
        },
        {
          "output_type": "display_data",
          "data": {
            "image/png": "[encoded data removed]",
            "text/plain": [
              "<Figure size 504x360 with 1 Axes>"
            ]
          },
          "metadata": {
            "tags": []
          }
        }
      ]
    },
    {
      "cell_type": "markdown",
      "metadata": {
        "id": "Z78xgRQ40TKc",
        "colab_type": "text"
      },
      "source": [
        "### 多个正则化之间的比较"
      ]
    },
    {
      "cell_type": "code",
      "metadata": {
        "id": "0XWsZkbE0ViB",
        "colab_type": "code",
        "colab": {
          "base_uri": "https://localhost:8080/",
          "height": 219
        },
        "outputId": "b7720394-f875-4cd3-c0f1-f2724d9f0243"
      },
      "source": [
        "#比较下哪个效果最好\n",
        "for this_C in [0.1, 1, 100]:\n",
        "  clf = LogisticRegression(solver='lbfgs', C=this_C).fit(X_train, y_train)\n",
        "  print('C={:.1f}'.format(this_C))\n",
        "  print('Accuracy of trainning set：{:.2f}'.format(clf.score(X_train, y_train)))\n",
        "  print('Accuracy of test set:{:.2f}\\n'.format(clf.score(X_test, y_test)))"
      ],
      "execution_count": 47,
      "outputs": [
        {
          "output_type": "stream",
          "text": [
            "C=0.1\n",
            "Accuracy of trainning set：0.80\n",
            "Accuracy of test set:0.80\n",
            "\n",
            "C=1.0\n",
            "Accuracy of trainning set：0.81\n",
            "Accuracy of test set:0.84\n",
            "\n",
            "C=100.0\n",
            "Accuracy of trainning set：0.81\n",
            "Accuracy of test set:0.84\n",
            "\n"
          ],
          "name": "stdout"
        }
      ]
    }
  ]
}