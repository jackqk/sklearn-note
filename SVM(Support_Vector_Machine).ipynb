{
  "nbformat": 4,
  "nbformat_minor": 0,
  "metadata": {
    "colab": {
      "name": "SVM(Support Vector Machine).ipynb",
      "provenance": [],
      "collapsed_sections": [],
      "include_colab_link": true
    },
    "kernelspec": {
      "name": "python3",
      "display_name": "Python 3"
    }
  },
  "cells": [
    {
      "cell_type": "markdown",
      "metadata": {
        "id": "view-in-github",
        "colab_type": "text"
      },
      "source": [
        "<a href=\"https://colab.research.google.com/github/jackqk/sklearn-note/blob/master/SVM(Support_Vector_Machine).ipynb\" target=\"_parent\"><img src=\"https://colab.research.google.com/assets/colab-badge.svg\" alt=\"Open In Colab\"/></a>"
      ]
    },
    {
      "cell_type": "markdown",
      "metadata": {
        "id": "_ZCD74HIEIWN",
        "colab_type": "text"
      },
      "source": [
        "# **Support Vector Machine**"
      ]
    },
    {
      "cell_type": "markdown",
      "metadata": {
        "id": "gtsQ5F06EPIl",
        "colab_type": "text"
      },
      "source": [
        "# **Linear SVM**\n",
        "\n"
      ]
    },
    {
      "cell_type": "code",
      "metadata": {
        "id": "UnaIDQeFKRF2",
        "colab_type": "code",
        "outputId": "f7b3fdb3-6138-432e-a905-745e25e3c185",
        "colab": {
          "base_uri": "https://localhost:8080/",
          "height": 50
        }
      },
      "source": [
        "from sklearn.svm import SVC\n",
        "from sklearn.model_selection import train_test_split\n",
        "from sklearn.datasets import make_classification\n",
        "\n",
        "X_C2, y_C2 = make_classification(n_samples = 100, n_features=2,\n",
        "                                n_redundant=0, n_informative=2,\n",
        "                                n_clusters_per_class=1, flip_y = 0.1,\n",
        "                                class_sep = 0.5, random_state=0)\n",
        "\n",
        "X_train, X_test, y_train, y_test = train_test_split(X_C2, y_C2, random_state=0)\n",
        "this_C = 1.0\n",
        "\n",
        "clf = SVC(kernel='linear', C=this_C).fit(X_train, y_train)\n",
        "print('Accuracy of train set:{:.2f}'.format(clf.score(X_train, y_train)))\n",
        "print('Accuracy of test set:{:.2f}'.format(clf.score(X_test, y_test)))"
      ],
      "execution_count": 0,
      "outputs": [
        {
          "output_type": "stream",
          "text": [
            "Accuracy of train set:0.80\n",
            "Accuracy of test set:0.76\n"
          ],
          "name": "stdout"
        }
      ]
    },
    {
      "cell_type": "markdown",
      "metadata": {
        "id": "8ByHMvacLeLb",
        "colab_type": "text"
      },
      "source": [
        "### 正则化"
      ]
    },
    {
      "cell_type": "code",
      "metadata": {
        "id": "CkXG4uxzLhN6",
        "colab_type": "code",
        "outputId": "7671553e-d9ce-42fb-b997-6501a5b7a7e4",
        "colab": {
          "base_uri": "https://localhost:8080/",
          "height": 118
        }
      },
      "source": [
        "from sklearn.svm import SVC\n",
        "from sklearn.model_selection import train_test_split\n",
        "from sklearn.datasets import make_classification\n",
        "\n",
        "X_C2, y_C2 = make_classification(n_samples = 100, n_features=2,\n",
        "                                n_redundant=0, n_informative=2,\n",
        "                                n_clusters_per_class=1, flip_y = 0.1,\n",
        "                                class_sep = 0.5, random_state=0)\n",
        "\n",
        "X_train, X_test, y_train, y_test = train_test_split(X_C2, y_C2, random_state=0)\n",
        "\n",
        "for this_C in [0.00001, 100]:\n",
        "  clf = SVC(kernel='linear', C=this_C).fit(X_train, y_train)\n",
        "  print('C={:.10f}'.format(this_C))\n",
        "  print('Accuracy of train set:{:.2f}'.format(clf.score(X_train, y_train)))\n",
        "  print('Accuracy of test set:{:.2f}'.format(clf.score(X_test, y_test)))"
      ],
      "execution_count": 0,
      "outputs": [
        {
          "output_type": "stream",
          "text": [
            "C=0.0000100000\n",
            "Accuracy of train set:0.51\n",
            "Accuracy of test set:0.40\n",
            "C=100.0000000000\n",
            "Accuracy of train set:0.80\n",
            "Accuracy of test set:0.76\n"
          ],
          "name": "stdout"
        }
      ]
    },
    {
      "cell_type": "code",
      "metadata": {
        "id": "1wVhZucYMEBx",
        "colab_type": "code",
        "outputId": "00880467-b6bc-4992-ec4e-9413dfa156dc",
        "colab": {
          "base_uri": "https://localhost:8080/",
          "height": 101
        }
      },
      "source": [
        "from sklearn.svm import LinearSVC\n",
        "from sklearn.datasets import load_breast_cancer\n",
        "\n",
        "\n",
        "(X_cancer, y_cancer) = load_breast_cancer(return_X_y = True) \n",
        "X_train, X_test, y_train, y_test = train_test_split(X_cancer, y_cancer, random_state = 0)\n",
        "\n",
        "clf = LinearSVC().fit(X_train, y_train)\n",
        "print('Breast cancer dataset')\n",
        "print('Accuracy of Linear SVC classifier on training set: {:.2f}'\n",
        "     .format(clf.score(X_train, y_train)))\n",
        "print('Accuracy of Linear SVC classifier on test set: {:.2f}'\n",
        "     .format(clf.score(X_test, y_test)))"
      ],
      "execution_count": 0,
      "outputs": [
        {
          "output_type": "stream",
          "text": [
            "Breast cancer dataset\n",
            "Accuracy of Linear SVC classifier on training set: 0.93\n",
            "Accuracy of Linear SVC classifier on test set: 0.94\n"
          ],
          "name": "stdout"
        },
        {
          "output_type": "stream",
          "text": [
            "/usr/local/lib/python3.6/dist-packages/sklearn/svm/base.py:929: ConvergenceWarning: Liblinear failed to converge, increase the number of iterations.\n",
            "  \"the number of iterations.\", ConvergenceWarning)\n"
          ],
          "name": "stderr"
        }
      ]
    },
    {
      "cell_type": "markdown",
      "metadata": {
        "id": "EFMBtkJqy8aK",
        "colab_type": "text"
      },
      "source": [
        "### 多类别分类"
      ]
    },
    {
      "cell_type": "code",
      "metadata": {
        "id": "enl-Ml1LzBjc",
        "colab_type": "code",
        "outputId": "ea96e78b-de0a-4676-8532-34b97f539ac0",
        "colab": {
          "base_uri": "https://localhost:8080/",
          "height": 202
        }
      },
      "source": [
        "import numpy as np\n",
        "import pandas as pd\n",
        "from sklearn.svm import LinearSVC\n",
        "from sklearn.model_selection import train_test_split\n",
        "\n",
        "fruits = pd.read_csv('https://raw.githubusercontent.com/Starignus/AppliedML_Python_Coursera/master/fruit_data_with_colors.txt', sep='\\t')\n",
        "X = fruits[['height', 'width']]\n",
        "y = fruits['fruit_label']\n",
        "X_train, X_test, y_train, y_test = train_test_split(X, y, random_state=0)\n",
        "\n",
        "clf = LinearSVC(C=5, random_state=67)\n",
        "clf.fit(X_train, y_train)\n",
        "print('Coefficients:\\n', clf.coef_)\n",
        "print('Intercepts:\\n', clf.intercept_)\n",
        "\n",
        "print('Accuracy of trainning set:{:.2f}'.format(clf.score(X_train, y_train)))\n",
        "print('Accuracy of test set:{:.2f}'.format(clf.score(X_test, y_test)))"
      ],
      "execution_count": 0,
      "outputs": [
        {
          "output_type": "stream",
          "text": [
            "Coefficients:\n",
            " [[-0.2632447   0.71355615]\n",
            " [-1.62923806  1.15817804]\n",
            " [ 0.03316693  0.28703901]\n",
            " [ 1.24224735 -1.63576356]]\n",
            "Intercepts:\n",
            " [-3.2898795   1.19927347 -2.71574774  1.16108696]\n",
            "Accuracy of trainning set:0.75\n",
            "Accuracy of test set:0.47\n"
          ],
          "name": "stdout"
        },
        {
          "output_type": "stream",
          "text": [
            "/usr/local/lib/python3.6/dist-packages/sklearn/svm/base.py:929: ConvergenceWarning: Liblinear failed to converge, increase the number of iterations.\n",
            "  \"the number of iterations.\", ConvergenceWarning)\n"
          ],
          "name": "stderr"
        }
      ]
    },
    {
      "cell_type": "code",
      "metadata": {
        "id": "WeGVzoP2073O",
        "colab_type": "code",
        "outputId": "a7c26177-6ac1-408f-ee45-f0505c2703ad",
        "colab": {
          "base_uri": "https://localhost:8080/",
          "height": 606
        }
      },
      "source": [
        "import matplotlib.pyplot as plt\n",
        "from matplotlib.colors import ListedColormap\n",
        "\n",
        "plt.figure(figsize=(10,10))\n",
        "colors = ['r', 'g', 'b', 'y']\n",
        "target_names_fruits = ['apple', 'mandarin', 'orange', 'lemon']\n",
        "cmap_fruits = ListedColormap(['#FF0000', '#00FF00', '#0000FF','#FFFF00'])\n",
        "\n",
        "plt.scatter(X['height'], X['width'], c=y, cmap=cmap_fruits, edgecolor = 'black', alpha=.7)\n",
        "\n",
        "x_0_range = np.linspace(-10, 15)\n",
        "\n",
        "for w, b, color in zip(clf.coef_, clf.intercept_, ['r', 'g', 'b', 'y']):\n",
        "    # Since class prediction with a linear model uses the formula y = w_0 x_0 + w_1 x_1 + b, \n",
        "    # and the decision boundary is defined as being all points with y = 0, to plot x_1 as a \n",
        "    # function of x_0 we just solve w_0 x_0 + w_1 x_1 + b = 0 for x_1:\n",
        "    plt.plot(x_0_range, -(x_0_range * w[0] + b) / w[1], c=color, alpha=.8)\n",
        "    \n",
        "plt.legend(target_names_fruits)\n",
        "plt.xlabel('height')\n",
        "plt.ylabel('width')\n",
        "plt.xlim(-2, 12)\n",
        "plt.ylim(-2, 15)\n",
        "plt.show()"
      ],
      "execution_count": 0,
      "outputs": [
        {
          "output_type": "display_data",
          "data": {
            "image/png": "[encoded data removed]",
            "text/plain": [
              "<Figure size 720x720 with 1 Axes>"
            ]
          },
          "metadata": {
            "tags": []
          }
        }
      ]
    },
    {
      "cell_type": "markdown",
      "metadata": {
        "id": "JFyRAyyNTT4a",
        "colab_type": "text"
      },
      "source": [
        "# **RBF SVM**"
      ]
    },
    {
      "cell_type": "markdown",
      "metadata": {
        "id": "vPxlHqAYTj1q",
        "colab_type": "text"
      },
      "source": [
        "### 数据准备"
      ]
    },
    {
      "cell_type": "code",
      "metadata": {
        "id": "jqP11tDyTZjW",
        "colab_type": "code",
        "colab": {}
      },
      "source": [
        "from sklearn.datasets import make_blobs\n",
        "X_D2, y_D2 = make_blobs(n_samples = 100, n_features = 2, centers = 8, cluster_std = 1.3, random_state = 4)\n",
        "y_D2 = y_D2 % 2"
      ],
      "execution_count": 0,
      "outputs": []
    },
    {
      "cell_type": "code",
      "metadata": {
        "id": "ezAD2mvmTmP5",
        "colab_type": "code",
        "outputId": "487067d5-b884-488c-ef60-29dcd1ef927f",
        "colab": {
          "base_uri": "https://localhost:8080/",
          "height": 118
        }
      },
      "source": [
        "from sklearn.model_selection import train_test_split\n",
        "from sklearn.svm import SVC\n",
        "\n",
        "X_train, X_test, y_train, y_test = train_test_split(X_D2, y_D2, random_state=0)\n",
        "\n",
        "for this_gamma in [0.01, 1.0, 10]:\n",
        "  clf = SVC(kernel='rbf', gamma=this_gamma).fit(X_train, y_train)\n",
        "  print('gamma={:.2f}'.format(this_gamma))\n",
        "  print('Accuracy of trainning set:{:.2f}'.format(clf.score(X_train, y_train)))"
      ],
      "execution_count": 0,
      "outputs": [
        {
          "output_type": "stream",
          "text": [
            "gamma=0.01\n",
            "Accuracy of trainning set:0.75\n",
            "gamma=1.00\n",
            "Accuracy of trainning set:0.95\n",
            "gamma=10.00\n",
            "Accuracy of trainning set:0.99\n"
          ],
          "name": "stdout"
        }
      ]
    }
  ]
}